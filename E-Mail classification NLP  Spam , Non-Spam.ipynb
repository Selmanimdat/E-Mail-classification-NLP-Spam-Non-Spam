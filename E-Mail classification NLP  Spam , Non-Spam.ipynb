{
 "cells": [
  {
   "cell_type": "markdown",
   "metadata": {},
   "source": [
    "# E-Mail classification NLP / Spam , Non-Spam"
   ]
  },
  {
   "cell_type": "code",
   "execution_count": 1,
   "metadata": {
    "execution": {
     "iopub.execute_input": "2023-12-18T22:07:03.970256Z",
     "iopub.status.busy": "2023-12-18T22:07:03.969797Z",
     "iopub.status.idle": "2023-12-18T22:07:04.000259Z",
     "shell.execute_reply": "2023-12-18T22:07:03.998332Z",
     "shell.execute_reply.started": "2023-12-18T22:07:03.970217Z"
    }
   },
   "outputs": [],
   "source": [
    "# E-Mail classification NLP project"
   ]
  },
  {
   "cell_type": "code",
   "execution_count": 28,
   "metadata": {
    "execution": {
     "iopub.execute_input": "2023-12-18T22:20:33.999083Z",
     "iopub.status.busy": "2023-12-18T22:20:33.998639Z",
     "iopub.status.idle": "2023-12-18T22:20:34.010039Z",
     "shell.execute_reply": "2023-12-18T22:20:34.008330Z",
     "shell.execute_reply.started": "2023-12-18T22:20:33.999049Z"
    }
   },
   "outputs": [
    {
     "name": "stdout",
     "output_type": "stream",
     "text": [
      "[nltk_data] Downloading package stopwords to /usr/share/nltk_data...\n",
      "[nltk_data]   Package stopwords is already up-to-date!\n"
     ]
    }
   ],
   "source": [
    "#libraries\n",
    "import pandas as pd\n",
    "import seaborn as sns\n",
    "import matplotlib.pyplot as plt\n",
    "from wordcloud import WordCloud, STOPWORDS, ImageColorGenerator\n",
    "from sklearn.model_selection import train_test_split\n",
    "from sklearn.metrics import accuracy_score, confusion_matrix, classification_report\n",
    "from sklearn.feature_extraction.text import CountVectorizer\n",
    "import nltk\n",
    "from nltk.sentiment.vader import SentimentIntensityAnalyzer\n",
    "from nltk.corpus import stopwords\n",
    "import string\n",
    "import re\n",
    "nltk.download('stopwords')\n",
    "stemmer = nltk.SnowballStemmer(\"english\")\n",
    "import joblib\n",
    "import warnings\n",
    "\n",
    "warnings.filterwarnings(\"ignore\")"
   ]
  },
  {
   "cell_type": "code",
   "execution_count": 8,
   "metadata": {
    "execution": {
     "iopub.execute_input": "2023-12-18T22:10:17.058813Z",
     "iopub.status.busy": "2023-12-18T22:10:17.058330Z",
     "iopub.status.idle": "2023-12-18T22:10:17.092500Z",
     "shell.execute_reply": "2023-12-18T22:10:17.091564Z",
     "shell.execute_reply.started": "2023-12-18T22:10:17.058779Z"
    }
   },
   "outputs": [
    {
     "data": {
      "text/html": [
       "<div>\n",
       "<style scoped>\n",
       "    .dataframe tbody tr th:only-of-type {\n",
       "        vertical-align: middle;\n",
       "    }\n",
       "\n",
       "    .dataframe tbody tr th {\n",
       "        vertical-align: top;\n",
       "    }\n",
       "\n",
       "    .dataframe thead th {\n",
       "        text-align: right;\n",
       "    }\n",
       "</style>\n",
       "<table border=\"1\" class=\"dataframe\">\n",
       "  <thead>\n",
       "    <tr style=\"text-align: right;\">\n",
       "      <th></th>\n",
       "      <th>S. No.</th>\n",
       "      <th>Message_body</th>\n",
       "      <th>Label</th>\n",
       "    </tr>\n",
       "  </thead>\n",
       "  <tbody>\n",
       "    <tr>\n",
       "      <th>0</th>\n",
       "      <td>1</td>\n",
       "      <td>Rofl. Its true to its name</td>\n",
       "      <td>Non-Spam</td>\n",
       "    </tr>\n",
       "    <tr>\n",
       "      <th>1</th>\n",
       "      <td>2</td>\n",
       "      <td>The guy did some bitching but I acted like i'd...</td>\n",
       "      <td>Non-Spam</td>\n",
       "    </tr>\n",
       "    <tr>\n",
       "      <th>2</th>\n",
       "      <td>3</td>\n",
       "      <td>Pity, * was in mood for that. So...any other s...</td>\n",
       "      <td>Non-Spam</td>\n",
       "    </tr>\n",
       "    <tr>\n",
       "      <th>3</th>\n",
       "      <td>4</td>\n",
       "      <td>Will ü b going to esplanade fr home?</td>\n",
       "      <td>Non-Spam</td>\n",
       "    </tr>\n",
       "    <tr>\n",
       "      <th>4</th>\n",
       "      <td>5</td>\n",
       "      <td>This is the 2nd time we have tried 2 contact u...</td>\n",
       "      <td>Spam</td>\n",
       "    </tr>\n",
       "  </tbody>\n",
       "</table>\n",
       "</div>"
      ],
      "text/plain": [
       "   S. No.                                       Message_body     Label\n",
       "0       1                         Rofl. Its true to its name  Non-Spam\n",
       "1       2  The guy did some bitching but I acted like i'd...  Non-Spam\n",
       "2       3  Pity, * was in mood for that. So...any other s...  Non-Spam\n",
       "3       4               Will ü b going to esplanade fr home?  Non-Spam\n",
       "4       5  This is the 2nd time we have tried 2 contact u...      Spam"
      ]
     },
     "execution_count": 8,
     "metadata": {},
     "output_type": "execute_result"
    }
   ],
   "source": [
    "#read data\n",
    "df = pd.read_csv('/kaggle/input/email-classification-nlp/SMS_train.csv',encoding=\"latin1\")\n",
    "df.head(5)"
   ]
  },
  {
   "cell_type": "code",
   "execution_count": 9,
   "metadata": {
    "execution": {
     "iopub.execute_input": "2023-12-18T22:12:23.146828Z",
     "iopub.status.busy": "2023-12-18T22:12:23.146319Z",
     "iopub.status.idle": "2023-12-18T22:12:23.153678Z",
     "shell.execute_reply": "2023-12-18T22:12:23.152054Z",
     "shell.execute_reply.started": "2023-12-18T22:12:23.146795Z"
    }
   },
   "outputs": [],
   "source": [
    "# preprocesing"
   ]
  },
  {
   "cell_type": "code",
   "execution_count": 12,
   "metadata": {
    "execution": {
     "iopub.execute_input": "2023-12-18T22:15:03.405874Z",
     "iopub.status.busy": "2023-12-18T22:15:03.405331Z",
     "iopub.status.idle": "2023-12-18T22:15:03.437447Z",
     "shell.execute_reply": "2023-12-18T22:15:03.436101Z",
     "shell.execute_reply.started": "2023-12-18T22:15:03.405835Z"
    }
   },
   "outputs": [
    {
     "data": {
      "text/html": [
       "<div>\n",
       "<style scoped>\n",
       "    .dataframe tbody tr th:only-of-type {\n",
       "        vertical-align: middle;\n",
       "    }\n",
       "\n",
       "    .dataframe tbody tr th {\n",
       "        vertical-align: top;\n",
       "    }\n",
       "\n",
       "    .dataframe thead th {\n",
       "        text-align: right;\n",
       "    }\n",
       "</style>\n",
       "<table border=\"1\" class=\"dataframe\">\n",
       "  <thead>\n",
       "    <tr style=\"text-align: right;\">\n",
       "      <th></th>\n",
       "      <th>S. No.</th>\n",
       "      <th>Message_body</th>\n",
       "      <th>Label</th>\n",
       "    </tr>\n",
       "  </thead>\n",
       "  <tbody>\n",
       "    <tr>\n",
       "      <th>0</th>\n",
       "      <td>1</td>\n",
       "      <td>rofl its true to its name</td>\n",
       "      <td>Non-Spam</td>\n",
       "    </tr>\n",
       "    <tr>\n",
       "      <th>1</th>\n",
       "      <td>2</td>\n",
       "      <td>the guy did some bitching but i acted like id ...</td>\n",
       "      <td>Non-Spam</td>\n",
       "    </tr>\n",
       "    <tr>\n",
       "      <th>2</th>\n",
       "      <td>3</td>\n",
       "      <td>pity  was in mood for that soany other suggest...</td>\n",
       "      <td>Non-Spam</td>\n",
       "    </tr>\n",
       "    <tr>\n",
       "      <th>3</th>\n",
       "      <td>4</td>\n",
       "      <td>will ü b going to esplanade fr home</td>\n",
       "      <td>Non-Spam</td>\n",
       "    </tr>\n",
       "    <tr>\n",
       "      <th>4</th>\n",
       "      <td>5</td>\n",
       "      <td>this is the nd time we have tried  contact u u...</td>\n",
       "      <td>Spam</td>\n",
       "    </tr>\n",
       "  </tbody>\n",
       "</table>\n",
       "</div>"
      ],
      "text/plain": [
       "   S. No.                                       Message_body     Label\n",
       "0       1                          rofl its true to its name  Non-Spam\n",
       "1       2  the guy did some bitching but i acted like id ...  Non-Spam\n",
       "2       3  pity  was in mood for that soany other suggest...  Non-Spam\n",
       "3       4                will ü b going to esplanade fr home  Non-Spam\n",
       "4       5  this is the nd time we have tried  contact u u...      Spam"
      ]
     },
     "execution_count": 12,
     "metadata": {},
     "output_type": "execute_result"
    }
   ],
   "source": [
    "#replace \n",
    "df['Message_body'] = df['Message_body'].str.lower().replace('[^\\w\\s]', '', regex=True).replace('\\d+', '', regex=True).replace('\\n', '', regex=True).replace('\\r', '', regex=True)\n",
    "df.head(5)"
   ]
  },
  {
   "cell_type": "code",
   "execution_count": 15,
   "metadata": {
    "execution": {
     "iopub.execute_input": "2023-12-18T22:16:49.909022Z",
     "iopub.status.busy": "2023-12-18T22:16:49.908545Z",
     "iopub.status.idle": "2023-12-18T22:16:49.913894Z",
     "shell.execute_reply": "2023-12-18T22:16:49.912334Z",
     "shell.execute_reply.started": "2023-12-18T22:16:49.908959Z"
    }
   },
   "outputs": [],
   "source": [
    "# encoding"
   ]
  },
  {
   "cell_type": "code",
   "execution_count": 14,
   "metadata": {
    "execution": {
     "iopub.execute_input": "2023-12-18T22:16:38.728753Z",
     "iopub.status.busy": "2023-12-18T22:16:38.728308Z",
     "iopub.status.idle": "2023-12-18T22:16:38.743510Z",
     "shell.execute_reply": "2023-12-18T22:16:38.741978Z",
     "shell.execute_reply.started": "2023-12-18T22:16:38.728722Z"
    }
   },
   "outputs": [],
   "source": [
    "df['Label'] = df['Label'].map({'Non-Spam': 0, 'Spam': 1})"
   ]
  },
  {
   "cell_type": "code",
   "execution_count": 17,
   "metadata": {
    "execution": {
     "iopub.execute_input": "2023-12-18T22:17:39.408752Z",
     "iopub.status.busy": "2023-12-18T22:17:39.408026Z",
     "iopub.status.idle": "2023-12-18T22:17:39.414811Z",
     "shell.execute_reply": "2023-12-18T22:17:39.413549Z",
     "shell.execute_reply.started": "2023-12-18T22:17:39.408716Z"
    }
   },
   "outputs": [],
   "source": [
    "# x y split\n",
    "x=df[\"Message_body\"]\n",
    "y=df[\"Label\"]"
   ]
  },
  {
   "cell_type": "code",
   "execution_count": 20,
   "metadata": {
    "execution": {
     "iopub.execute_input": "2023-12-18T22:18:18.484449Z",
     "iopub.status.busy": "2023-12-18T22:18:18.483952Z",
     "iopub.status.idle": "2023-12-18T22:18:18.532597Z",
     "shell.execute_reply": "2023-12-18T22:18:18.531264Z",
     "shell.execute_reply.started": "2023-12-18T22:18:18.484413Z"
    }
   },
   "outputs": [],
   "source": [
    "# vectorizing\n",
    "vect=CountVectorizer(stop_words=\"english\")\n",
    "x=vect.fit_transform(x)"
   ]
  },
  {
   "cell_type": "code",
   "execution_count": 23,
   "metadata": {
    "execution": {
     "iopub.execute_input": "2023-12-18T22:19:10.909358Z",
     "iopub.status.busy": "2023-12-18T22:19:10.908463Z",
     "iopub.status.idle": "2023-12-18T22:19:10.919609Z",
     "shell.execute_reply": "2023-12-18T22:19:10.917940Z",
     "shell.execute_reply.started": "2023-12-18T22:19:10.909318Z"
    }
   },
   "outputs": [],
   "source": [
    "# train test split\n",
    "x_train,x_test,y_train,y_test=train_test_split(x,y,test_size=.20,random_state=42)"
   ]
  },
  {
   "cell_type": "code",
   "execution_count": 25,
   "metadata": {
    "execution": {
     "iopub.execute_input": "2023-12-18T22:19:40.562312Z",
     "iopub.status.busy": "2023-12-18T22:19:40.561674Z",
     "iopub.status.idle": "2023-12-18T22:19:40.611808Z",
     "shell.execute_reply": "2023-12-18T22:19:40.610511Z",
     "shell.execute_reply.started": "2023-12-18T22:19:40.562273Z"
    }
   },
   "outputs": [],
   "source": [
    "# model\n",
    "from sklearn.svm import SVC\n",
    "s=SVC()\n",
    "model = s.fit(x_train, y_train)"
   ]
  },
  {
   "cell_type": "code",
   "execution_count": 26,
   "metadata": {
    "execution": {
     "iopub.execute_input": "2023-12-18T22:19:56.748701Z",
     "iopub.status.busy": "2023-12-18T22:19:56.748204Z",
     "iopub.status.idle": "2023-12-18T22:19:56.765438Z",
     "shell.execute_reply": "2023-12-18T22:19:56.764336Z",
     "shell.execute_reply.started": "2023-12-18T22:19:56.748660Z"
    }
   },
   "outputs": [],
   "source": [
    "#make predictions\n",
    "predictions=model.predict(x_test)"
   ]
  },
  {
   "cell_type": "code",
   "execution_count": 29,
   "metadata": {
    "execution": {
     "iopub.execute_input": "2023-12-18T22:20:38.202852Z",
     "iopub.status.busy": "2023-12-18T22:20:38.202328Z",
     "iopub.status.idle": "2023-12-18T22:20:38.213112Z",
     "shell.execute_reply": "2023-12-18T22:20:38.211460Z",
     "shell.execute_reply.started": "2023-12-18T22:20:38.202815Z"
    }
   },
   "outputs": [
    {
     "data": {
      "text/plain": [
       "0.90625"
      ]
     },
     "execution_count": 29,
     "metadata": {},
     "output_type": "execute_result"
    }
   ],
   "source": [
    "# model accuracy\n",
    "accuracy_score(predictions,y_test)"
   ]
  },
  {
   "cell_type": "code",
   "execution_count": 30,
   "metadata": {
    "execution": {
     "iopub.execute_input": "2023-12-18T22:21:11.601622Z",
     "iopub.status.busy": "2023-12-18T22:21:11.600597Z",
     "iopub.status.idle": "2023-12-18T22:21:11.615314Z",
     "shell.execute_reply": "2023-12-18T22:21:11.613671Z",
     "shell.execute_reply.started": "2023-12-18T22:21:11.601576Z"
    }
   },
   "outputs": [
    {
     "data": {
      "text/plain": [
       "['model.joblib']"
      ]
     },
     "execution_count": 30,
     "metadata": {},
     "output_type": "execute_result"
    }
   ],
   "source": [
    "#save model\n",
    "import joblib\n",
    "joblib.dump(model,\"model.joblib\")"
   ]
  },
  {
   "cell_type": "code",
   "execution_count": 31,
   "metadata": {
    "execution": {
     "iopub.execute_input": "2023-12-18T22:21:20.458790Z",
     "iopub.status.busy": "2023-12-18T22:21:20.458263Z",
     "iopub.status.idle": "2023-12-18T22:21:20.464097Z",
     "shell.execute_reply": "2023-12-18T22:21:20.463062Z",
     "shell.execute_reply.started": "2023-12-18T22:21:20.458752Z"
    }
   },
   "outputs": [],
   "source": [
    "# sources"
   ]
  },
  {
   "cell_type": "markdown",
   "metadata": {},
   "source": [
    "-Zafer Acar Notes -[https://poe.com/chat/2rhcfi4djoj4u359vfr]"
   ]
  },
  {
   "cell_type": "code",
   "execution_count": null,
   "metadata": {},
   "outputs": [],
   "source": []
  }
 ],
 "metadata": {
  "kaggle": {
   "accelerator": "none",
   "dataSources": [
    {
     "datasetId": 888171,
     "sourceId": 1507821,
     "sourceType": "datasetVersion"
    }
   ],
   "dockerImageVersionId": 30626,
   "isGpuEnabled": false,
   "isInternetEnabled": true,
   "language": "python",
   "sourceType": "notebook"
  },
  "kernelspec": {
   "display_name": "Python 3 (ipykernel)",
   "language": "python",
   "name": "python3"
  },
  "language_info": {
   "codemirror_mode": {
    "name": "ipython",
    "version": 3
   },
   "file_extension": ".py",
   "mimetype": "text/x-python",
   "name": "python",
   "nbconvert_exporter": "python",
   "pygments_lexer": "ipython3",
   "version": "3.9.13"
  }
 },
 "nbformat": 4,
 "nbformat_minor": 4
}
